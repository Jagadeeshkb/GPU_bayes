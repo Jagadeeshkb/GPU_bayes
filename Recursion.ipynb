{
 "cells": [
  {
   "cell_type": "code",
   "execution_count": 17,
   "id": "d631354d",
   "metadata": {},
   "outputs": [],
   "source": [
    "import time\n",
    "from functools import cache,lru_cache "
   ]
  },
  {
   "cell_type": "code",
   "execution_count": 3,
   "id": "b617212b",
   "metadata": {},
   "outputs": [],
   "source": [
    "def Fibonacci(n):\n",
    "\t# Check if input is 0 then it will\n",
    "\t# print incorrect input\n",
    "\tif n < 0:\n",
    "\t\tprint(\"Incorrect input\")\n",
    "\n",
    "\t# Check if n is 0\n",
    "\t# then it will return 0\n",
    "\telif n == 0:\n",
    "\t\treturn 0\n",
    "\n",
    "\t# Check if n is 1,2\n",
    "\t# it will return 1\n",
    "\telif n == 1 or n == 2:\n",
    "\t\treturn 1\n",
    "\n",
    "\telse:\n",
    "\t\treturn Fibonacci(n-1) + Fibonacci(n-2)"
   ]
  },
  {
   "cell_type": "code",
   "execution_count": 14,
   "id": "3241053b",
   "metadata": {},
   "outputs": [
    {
     "name": "stdout",
     "output_type": "stream",
     "text": [
      "Time taken for Febonacci(Normal) : 60.435563\n"
     ]
    }
   ],
   "source": [
    "start=time.time()\n",
    "Fibonacci(40)\n",
    "end = time.time()\n",
    "print(\"Time taken for Febonacci(Normal) :\",format(end-start,'5f'))"
   ]
  },
  {
   "cell_type": "code",
   "execution_count": 18,
   "id": "9076ba6a",
   "metadata": {},
   "outputs": [],
   "source": [
    "@lru_cache(None)\n",
    "def Fibonacci1(n):\n",
    "\n",
    "\t# Check if input is 0 then it will\n",
    "\t# print incorrect input\n",
    "\tif n < 0:\n",
    "\t\tprint(\"Incorrect input\")\n",
    "\n",
    "\t# Check if n is 0\n",
    "\t# then it will return 0\n",
    "\telif n == 0:\n",
    "\t\treturn 0\n",
    "\n",
    "\t# Check if n is 1,2\n",
    "\t# it will return 1\n",
    "\telif n == 1 or n == 2:\n",
    "\t\treturn 1\n",
    "\n",
    "\telse:\n",
    "\t\treturn Fibonacci(n-1) + Fibonacci(n-2)"
   ]
  },
  {
   "cell_type": "code",
   "execution_count": null,
   "id": "ed02be11",
   "metadata": {},
   "outputs": [],
   "source": [
    "start=time.time()\n",
    "Fibonacci1(40)\n",
    "end = time.time()\n",
    "print(\"Time taken for Febonacci(cache) :\",format(end-start,'5f'))"
   ]
  },
  {
   "cell_type": "code",
   "execution_count": null,
   "id": "99f0e065",
   "metadata": {},
   "outputs": [],
   "source": []
  }
 ],
 "metadata": {
  "kernelspec": {
   "display_name": "Python 3 (ipykernel)",
   "language": "python",
   "name": "python3"
  },
  "language_info": {
   "codemirror_mode": {
    "name": "ipython",
    "version": 3
   },
   "file_extension": ".py",
   "mimetype": "text/x-python",
   "name": "python",
   "nbconvert_exporter": "python",
   "pygments_lexer": "ipython3",
   "version": "3.11.3"
  }
 },
 "nbformat": 4,
 "nbformat_minor": 5
}
